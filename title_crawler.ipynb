{
 "cells": [
  {
   "cell_type": "code",
   "execution_count": null,
   "metadata": {},
   "outputs": [],
   "source": [
    "# 抓取网页中的超链接标题\n",
    "\n",
    "import requests\n",
    "import url_manager\n",
    "from bs4 import BeautifulSoup\n",
    "import re"
   ]
  },
  {
   "cell_type": "code",
   "execution_count": null,
   "metadata": {},
   "outputs": [],
   "source": [
    "# 根网址\n",
    "root_url = \"http://www.crazyant.net\"\n",
    "\n",
    "# url管理\n",
    "url_box = url_manager.UrlManager()\n",
    "url_box.add_url(root_url)\n",
    "\n",
    "# 储存数据\n",
    "fp_out = open(\"data/output/craw_title.txt\", \"w\", encoding=\"utf-8\")"
   ]
  },
  {
   "cell_type": "code",
   "execution_count": null,
   "metadata": {},
   "outputs": [],
   "source": [
    "while url_box.have_new_url():\n",
    "    url_cur = url_box.get_url()\n",
    "    r = requests.get(url_cur, timeout=3)\n",
    "    if r.status_code != 200:\n",
    "        print(\"error, return statue_code is not 200\", url_cur)\n",
    "        continue\n",
    "    \n",
    "    # 获取网页标题title\n",
    "    soup = BeautifulSoup(r.text, \"html.parser\")\n",
    "    title = soup.title.string\n",
    "\n",
    "    # 输出title至文件\n",
    "    fp_out.write(\"%s\\t%s\\n\" % (url_cur, title))\n",
    "    fp_out.flush()\n",
    "    print(\"success:%s , %s\" % (url_cur, title))\n",
    "\n",
    "    # 查找子超链接\n",
    "    links = soup.find_all(\"a\")\n",
    "    for link in links:\n",
    "        href = link.get(\"href\")\n",
    "        if href is None:\n",
    "            continue\n",
    "        pattern = r'^http://www.crazyant.net/\\d+.html$'\n",
    "        if re.match(pattern, href):\n",
    "            url_box.add_url(href)\n",
    "\n",
    "fp_out.close()"
   ]
  }
 ],
 "metadata": {
  "kernelspec": {
   "display_name": ".venv",
   "language": "python",
   "name": "python3"
  },
  "language_info": {
   "codemirror_mode": {
    "name": "ipython",
    "version": 3
   },
   "file_extension": ".py",
   "mimetype": "text/x-python",
   "name": "python",
   "nbconvert_exporter": "python",
   "pygments_lexer": "ipython3",
   "version": "3.11.3"
  }
 },
 "nbformat": 4,
 "nbformat_minor": 2
}
