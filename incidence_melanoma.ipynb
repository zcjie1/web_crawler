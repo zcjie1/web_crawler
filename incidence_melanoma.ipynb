{
 "cells": [
  {
   "cell_type": "markdown",
   "metadata": {},
   "source": [
    "## 发病率(incidence)统计\n",
    "统计每个州前五发病率国家\n",
    "\n",
    "纵坐标：incidence rate\n",
    "\n",
    "横坐标：年龄段(0-80)\n",
    "\n",
    "数据间隔: 10\n",
    "\n",
    "数据表达形式: 折线图形式\n",
    "\n",
    "### 统计内容:\n",
    "1. 黑色素肿瘤：5张图\n",
    "2. 非黑色素肿瘤：5张图\n"
   ]
  },
  {
   "cell_type": "markdown",
   "metadata": {},
   "source": [
    "### 头文件及配置"
   ]
  },
  {
   "cell_type": "code",
   "execution_count": null,
   "metadata": {},
   "outputs": [],
   "source": [
    "import os\n",
    "import json\n",
    "import numpy as np\n",
    "import matplotlib.pyplot as plt\n",
    "import pandas as pd\n",
    "\n",
    "# 内嵌矢量图\n",
    "%config InlineBackend.figure_format = 'svg'"
   ]
  },
  {
   "cell_type": "markdown",
   "metadata": {},
   "source": [
    "### 合并北美洲和南美洲的数据"
   ]
  },
  {
   "cell_type": "code",
   "execution_count": null,
   "metadata": {},
   "outputs": [],
   "source": [
    "\n",
    "na_dir_name = \"data/input/na_incidence_melanoma/\"\n",
    "lac_dir_name= \"data/input/lac_incidence_melanoma/\"\n",
    "\n",
    " # 获取dir中的所有文件名\n",
    "na_dir = [ f for f in os.listdir(na_dir_name) ]\n",
    "lac_dir = [ f for f in os.listdir(lac_dir_name) ]\n",
    "\n",
    "america_directory = \"data/input/america_incidence_melanoma/\"\n",
    "\n",
    "# 创建america数据目录\n",
    "if not os.path.exists(america_directory):\n",
    "    os.makedirs(america_directory)\n",
    "\n",
    "# 合并南美洲和北美洲的数据\n",
    "for nafile in na_dir:\n",
    "    year = nafile.split('_')[3].split('.')[0]\n",
    "\n",
    "    lacfile = f\"lac_incidence_melanoma_{year}.json\"\n",
    "\n",
    "    # 构建目标文件名\n",
    "    output_file_name = f\"america_incidence_melanoma_{year}.json\"\n",
    "    output_file_path = os.path.join(america_directory, output_file_name)\n",
    "\n",
    "    # 读取na json文件\n",
    "    filepath = os.path.join(na_dir_name, nafile)\n",
    "    with open(filepath, 'r', encoding='utf-8') as na_filp:\n",
    "        data_na = json.load(na_filp)\n",
    "    \n",
    "    # 读取lac json文件\n",
    "    if lacfile in lac_dir:\n",
    "        filepath = os.path.join(lac_dir_name, lacfile)\n",
    "        with open(filepath, 'r', encoding='utf-8') as lac_filp:\n",
    "            data_lac = json.load(lac_filp)\n",
    "    \n",
    "    data_merge = data_na + data_lac\n",
    "    with open(output_file_path, \"w\", encoding=\"utf-8\") as fout:\n",
    "        json.dump(data_merge, fout, ensure_ascii=False, indent=4)"
   ]
  },
  {
   "cell_type": "markdown",
   "metadata": {},
   "source": [
    "### 确定每个洲的前五国家函数"
   ]
  },
  {
   "cell_type": "code",
   "execution_count": null,
   "metadata": {},
   "outputs": [],
   "source": [
    "\n",
    "def top_five(region_name):\n",
    "    filepath = f'{region_name}_incidence_melanoma_80.json'\n",
    "    dirpath = f'data/input/{region_name}_incidence_melanoma/'\n",
    "\n",
    "    with open(os.path.join(dirpath, filepath), \"r\", encoding=\"utf-8\") as region:\n",
    "        data = json.load(region)\n",
    "    \n",
    "    sorted_data = sorted(data, key=lambda x: x['asr'], reverse=True)\n",
    "    top_five_labels = [item['label'] for item in sorted_data[:5]]\n",
    "    return top_five_labels\n"
   ]
  },
  {
   "cell_type": "markdown",
   "metadata": {},
   "source": [
    "### 画图函数"
   ]
  },
  {
   "cell_type": "code",
   "execution_count": null,
   "metadata": {},
   "outputs": [],
   "source": [
    "# markers = {\n",
    "#     '1': {'marker': 'o', 'size': 8},\n",
    "#     '2': {'marker': 's', 'size': 10},\n",
    "#     '3': {'marker': 'D', 'size': 6},\n",
    "#     '4': {'marker': '^', 'size': 12},\n",
    "#     '5': {'marker': 'v', 'size': 8},\n",
    "# }\n",
    "\n",
    "def image_show(results, region):\n",
    "    # 转换数据为DataFrame\n",
    "    df = pd.DataFrame(results).T.astype(float)\n",
    "    df.index = df.index.astype(int)\n",
    "\n",
    "    plt.figure(figsize=(8, 4.5))\n",
    "\n",
    "    for country in df.columns:\n",
    "        plt.plot(df.index, df[country], marker='o', markersize=4, label=country)\n",
    "\n",
    "    plt.title(region.capitalize())\n",
    "    plt.xlabel('Age(Years)')\n",
    "    plt.ylabel('Incidence rate(1/100,000 population)')\n",
    "\n",
    "    # 添加图例\n",
    "    plt.legend(\n",
    "        loc='upper center', \n",
    "        bbox_to_anchor=(0.5, -0.15),\n",
    "        # fancybox=True,\n",
    "        frameon=False,\n",
    "        shadow=False, \n",
    "        ncol=5\n",
    "    )\n",
    "\n",
    "    # 获取当前轴\n",
    "    ax = plt.gca()\n",
    "\n",
    "    # 移除上侧和右侧的边界线\n",
    "    ax.spines['top'].set_visible(False)\n",
    "    ax.spines['right'].set_visible(False)\n",
    "\n",
    "    # 网格\n",
    "    plt.grid(False)\n",
    "\n",
    "    # 保存为svg格式\n",
    "    plt.savefig(f'data/output/{region}_incidence_melanoma.svg', format='svg')\n",
    "\n",
    "    plt.show()"
   ]
  },
  {
   "cell_type": "markdown",
   "metadata": {},
   "source": [
    "### 根据前五国家的Label，统计各个年龄段的数据，并绘制图像"
   ]
  },
  {
   "cell_type": "code",
   "execution_count": null,
   "metadata": {},
   "outputs": [],
   "source": [
    "\n",
    "regions = ['asia', 'america', 'africa', 'europe', 'oceania']\n",
    "\n",
    "# 遍历每个地区\n",
    "for region in regions:\n",
    "    # 获取前五个国家的label\n",
    "    top_five_labels = top_five(region)\n",
    "\n",
    "    # 输出结果和输出目录\n",
    "    results = {}\n",
    "    data_dir = f'data/input/{region}_incidence_melanoma/'\n",
    "\n",
    "    # 遍历文件夹内的数据文件\n",
    "    for filename in os.listdir(data_dir):\n",
    "        year = filename.split('_')[3].split('.')[0]\n",
    "\n",
    "        # 读取json文件\n",
    "        filepath = os.path.join(data_dir, filename)\n",
    "        with open(filepath, 'r', encoding='utf-8') as f:\n",
    "            data = json.load(f)\n",
    "        \n",
    "        if year not in results:\n",
    "            results[year] = {}\n",
    "        \n",
    "        # 存储asr数据\n",
    "        for item in data:\n",
    "            if item['label'] in top_five_labels:\n",
    "                results[year][item['label']] = item['asr']\n",
    "    \n",
    "    # 按年份排序\n",
    "    years = list(results.keys())\n",
    "    years.sort(key=int)\n",
    "\n",
    "    results = {year: results[year] for year in years}\n",
    "\n",
    "    with open(f'data/output/{region}_incidence_melanoma.json', 'w', encoding='utf-8') as f:\n",
    "        json.dump(results, f, ensure_ascii=False, indent=4)\n",
    "    \n",
    "    image_show(results, region)\n"
   ]
  }
 ],
 "metadata": {
  "kernelspec": {
   "display_name": ".venv",
   "language": "python",
   "name": "python3"
  },
  "language_info": {
   "codemirror_mode": {
    "name": "ipython",
    "version": 3
   },
   "file_extension": ".py",
   "mimetype": "text/x-python",
   "name": "python",
   "nbconvert_exporter": "python",
   "pygments_lexer": "ipython3",
   "version": "3.11.3"
  }
 },
 "nbformat": 4,
 "nbformat_minor": 2
}
