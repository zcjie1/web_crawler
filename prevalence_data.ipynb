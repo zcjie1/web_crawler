{
 "cells": [
  {
   "cell_type": "markdown",
   "metadata": {},
   "source": [
    "# Cancer数据获取(患病例数-Prevalence)\n",
    "\n",
    "代码注释参考inc_mort_data.ipynb文件"
   ]
  },
  {
   "cell_type": "code",
   "execution_count": null,
   "metadata": {},
   "outputs": [],
   "source": [
    "import os\n",
    "import time\n",
    "from selenium import webdriver\n",
    "from selenium.webdriver.common.by import By\n",
    "from selenium.webdriver.common.keys import Keys\n",
    "from selenium.webdriver.edge.options import Options as EdgeOptions\n",
    "\n",
    "edge_options = EdgeOptions()\n",
    "edge_options.add_argument(\"--window-size=1920,1080\")\n",
    "# edge_options.add_argument(\"start-maximized\")\n",
    "\n",
    "# 设置webdriver路径，例如使用ChromeDriver\n",
    "driver = webdriver.Edge(options=edge_options)\n",
    "\n",
    "# 打开网页\n",
    "driver.get('https://gco.iarc.who.int/today/en/dataviz/bars-prevalence?mode=population&key=total')\n",
    "\n",
    "# 等待页面加载\n",
    "time.sleep(35)"
   ]
  },
  {
   "cell_type": "code",
   "execution_count": null,
   "metadata": {},
   "outputs": [],
   "source": [
    "# 点击空白处\n",
    "driver.find_element(By.XPATH, '/html/body').click()\n",
    "\n",
    "# 点击与mode_population相关联的label标签\n",
    "mode_population = driver.find_element(By.XPATH, \"//label[@for='mode_population']\")\n",
    "mode_population.click()"
   ]
  },
  {
   "cell_type": "code",
   "execution_count": null,
   "metadata": {},
   "outputs": [],
   "source": [
    "# 选择cancer类型\n",
    "\n",
    "cancer_sort = ['Melanoma of skin', 'Non-melanoma skin cancer']\n",
    "\n",
    "def select_cancer(cancer_name):\n",
    "    cancer_label = driver.find_element(By.XPATH, \"//*[@id='tab_1']/fieldset[3]/div/div[2]/span\")\n",
    "    cancer_label.click()\n",
    "\n",
    "    time.sleep(1)\n",
    "\n",
    "    cancer_input = driver.find_element(By.ID, \"multiselect-cancer\")\n",
    "\n",
    "    cancer_input.send_keys(cancer_name)\n",
    "    time.sleep(1)\n",
    "    cancer_input.send_keys(Keys.DOWN)\n",
    "    cancer_input.send_keys(Keys.ENTER)\n",
    "\n",
    "    time.sleep(3)\n",
    "\n",
    "# select_cancer(cancer_sort[0])"
   ]
  },
  {
   "cell_type": "code",
   "execution_count": null,
   "metadata": {},
   "outputs": [],
   "source": [
    "# 选择年龄段\n",
    "\n",
    "left_sort = [0, 2, 4, 6, 8, 10, 12, 14]\n",
    "right_sort = [1, 3, 5, 7, 9, 11, 13, 15]\n",
    "\n",
    "def select_age(index):\n",
    "    # 年龄下限\n",
    "    left_age_label = driver.find_element(By.XPATH, \"//*[@id='tab_1']/fieldset[6]/div[1]/div[2]/span\")\n",
    "    left_age_label.click()\n",
    "\n",
    "    time.sleep(1)\n",
    "\n",
    "    left_age_xpath = f\"//*[@id='tab_1']/fieldset[6]/div[1]/div[3]/ul[1]/li[@id='null-{left_sort[index]}']\"\n",
    "    left_age = driver.find_element(By.XPATH, left_age_xpath)\n",
    "    left_age.click()\n",
    "\n",
    "    time.sleep(1)\n",
    "\n",
    "    # 年龄上限\n",
    "    right_age_label = driver.find_element(By.XPATH, \"//*[@id='tab_1']/fieldset[6]/div[2]/div[2]/span\")\n",
    "    right_age_label.click()\n",
    "\n",
    "    time.sleep(1)\n",
    "\n",
    "    right_age_xpath = f\"//*[@id='tab_1']/fieldset[6]/div[2]/div[3]/ul[1]/li[@id='null-{right_sort[index]}']\"\n",
    "    right_age = driver.find_element(By.XPATH, right_age_xpath)\n",
    "    right_age.click()\n",
    "\n",
    "    # 年龄下限\n",
    "    left_age_label.click()\n",
    "    time.sleep(1)\n",
    "    left_age.click()\n",
    "\n",
    "    time.sleep(10)\n",
    "\n",
    "# select_age(3)"
   ]
  },
  {
   "cell_type": "code",
   "execution_count": null,
   "metadata": {},
   "outputs": [],
   "source": [
    "# 选择时间跨度\n",
    "\n",
    "one_year = driver.find_element(By.XPATH, \"//label[@for='input_prev_time_1']\")\n",
    "three_year = driver.find_element(By.XPATH, \"//label[@for='input_prev_time_3']\")\n",
    "five_year = driver.find_element(By.XPATH, \"//label[@for='input_prev_time_5']\")\n",
    "\n",
    "three_year.click()\n",
    "five_year.click()"
   ]
  },
  {
   "cell_type": "code",
   "execution_count": null,
   "metadata": {},
   "outputs": [],
   "source": [
    "# 选择download\n",
    "\n",
    "def click_download():\n",
    "    download_label = driver.find_element(\n",
    "        By.XPATH, \n",
    "        \"//*[@id='app']/div/div[2]/div[2]/div/div[2]/div[2]/div[1]/ul[1]/li[2]\"\n",
    "    )\n",
    "    download_label.click()\n",
    "\n",
    "    time.sleep(3)\n",
    "\n",
    "# click_download()"
   ]
  },
  {
   "cell_type": "code",
   "execution_count": null,
   "metadata": {},
   "outputs": [],
   "source": [
    "# 下载json文件, 并重命名\n",
    "\n",
    "cancer_map = {\n",
    "    'Melanoma of skin': 'melanoma',\n",
    "    'Non-melanoma skin cancer': 'nomelanoma'\n",
    "}\n",
    "\n",
    "age_map = [10, 20, 30, 40, 50, 60, 70, 80]\n",
    "\n",
    "def download_json(cancer, age_index):\n",
    "    json_label = driver.find_element(By.XPATH, \"//*[@id='tab_downloads']/div/div/div[2]/ul[3]/li/a\")\n",
    "\n",
    "    filename = f\"prevalence_{cancer_map[cancer]}_{age_map[age_index]}\"\n",
    "    driver.execute_script(f\"arguments[0].setAttribute('download', '{filename}')\", json_label)\n",
    "    time.sleep(2)\n",
    "    json_label.click()\n",
    "    time.sleep(3)\n",
    "    print(f\"success: {filename}.json\")\n",
    "\n",
    "# download_json(cancer_sort[0], 3)"
   ]
  },
  {
   "cell_type": "code",
   "execution_count": null,
   "metadata": {},
   "outputs": [],
   "source": [
    "# 主函数\n",
    "\n",
    "dir = \"C:\\\\Users\\\\zcj\\\\Downloads\"\n",
    "\n",
    "def main(cancer, age_index):\n",
    "    filename = f\"prevalence_{cancer_map[cancer]}_{age_map[age_index]}.json\"\n",
    "    file_path=os.path.join(dir, filename)\n",
    "    if os.path.exists(file_path):\n",
    "        return\n",
    "\n",
    "    select_age(age_index)\n",
    "    click_download()\n",
    "    download_json(cancer, age_index)\n",
    "\n",
    "for cancer in cancer_sort:\n",
    "    select_cancer(cancer)\n",
    "    for index in range(8):\n",
    "        main(cancer, index)"
   ]
  },
  {
   "cell_type": "code",
   "execution_count": null,
   "metadata": {},
   "outputs": [],
   "source": [
    "driver.quit()"
   ]
  }
 ],
 "metadata": {
  "kernelspec": {
   "display_name": "base",
   "language": "python",
   "name": "python3"
  },
  "language_info": {
   "codemirror_mode": {
    "name": "ipython",
    "version": 3
   },
   "file_extension": ".py",
   "mimetype": "text/x-python",
   "name": "python",
   "nbconvert_exporter": "python",
   "pygments_lexer": "ipython3",
   "version": "3.11.3"
  }
 },
 "nbformat": 4,
 "nbformat_minor": 2
}
